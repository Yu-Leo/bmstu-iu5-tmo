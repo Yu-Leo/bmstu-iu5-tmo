{
  "nbformat": 4,
  "nbformat_minor": 0,
  "metadata": {
    "colab": {
      "provenance": [],
      "toc_visible": true
    },
    "kernelspec": {
      "name": "python3",
      "display_name": "Python 3"
    },
    "language_info": {
      "name": "python"
    }
  },
  "cells": [
    {
      "cell_type": "markdown",
      "source": [
        "# МГТУ им. Н.Э.Баумана | ИУ5 | 6 семестр | ТМО | ЛР№5"
      ],
      "metadata": {
        "id": "8SrJbvpJo_ur"
      }
    },
    {
      "cell_type": "markdown",
      "source": [
        "https://github.com/ugapanyuk/courses_current/wiki/LAB_TMO_ENSEMBLES_1\n",
        "\n",
        "**Задание:**\n",
        "\n",
        "1. Выберите набор данных (датасет) для решения задачи классификации или регресии.\n",
        "2. В случае необходимости проведите удаление или заполнение пропусков и кодирование категориальных признаков.\n",
        "3. С использованием метода train_test_split разделите выборку на обучающую и тестовую.\n",
        "\n",
        "4. Обучите следующие ансамблевые модели:\n",
        "    - две модели группы бэггинга (бэггинг или случайный лес или сверхслучайные деревья);\n",
        "    - AdaBoost;\n",
        "    - градиентный бустинг.\n",
        "5. Оцените качество моделей с помощью одной из подходящих для задачи метрик Сравните качество полученных моделей."
      ],
      "metadata": {
        "id": "cmzPPXDnpKFg"
      }
    },
    {
      "cell_type": "markdown",
      "source": [
        "## Теория"
      ],
      "metadata": {
        "id": "ZS6dPpPcpcf-"
      }
    },
    {
      "cell_type": "markdown",
      "source": [
        "**Регрессия** - задача прогнозирования количественных переменных на основе данных. В основе регрессионного анализа лежит построение функциональной зависимости между одной или несколькими независимыми переменными и одной зависимой переменной.\n",
        "\n",
        "**Классификация** — задача прогнозирования категориальных переменных на основе данных. Задача классификации заключается в назначении объекта одному из заранее заданных классов на основе его характеристик."
      ],
      "metadata": {
        "id": "uiIF7ziQq_Q3"
      }
    },
    {
      "cell_type": "markdown",
      "source": [
        "Бэггинг и случайный лес - https://nbviewer.org/github/ugapanyuk/courses_current/blob/main/notebooks/ensembles/bagging_forest.ipynb\n",
        "\n",
        "Бустинг - https://nbviewer.jupyter.org/github/ugapanyuk/courses_current/blob/main/notebooks/ensembles/boosting.ipynb\n",
        "\n",
        "\n",
        "Идея использования ансамблевых моделей состоит в том, что оценивается результат совместного голосования различных моделей. Варианты объединения моделей в ансамбль могут быть различными и могут использоваться для решения различных задач.\n",
        "\n",
        "### Бэггинг\n",
        "\n",
        "Бэггинг позволяет снизить дисперсию (variance) обучаемого классификатора, уменьшая величину, на которую ошибка будет отличаться, если обучать модель на разных наборах данных, или другими словами, предотвращает переобучение.\n",
        "\n",
        "\n",
        "Пусть имеется обучающая выборка X\n",
        " размера N\n",
        ". С помощью бутстрэпа сгенерируем из этой выборки K\n",
        " подвыборок X1\n",
        " ... XK\n",
        ". Теперь на каждой выборке обучим свою модель Mi(x)\n",
        ". Итоговый классификатор будет усреднять ответы всех моделей (выбирать средний результат голосования):\n",
        "\n",
        "\n",
        "Важно то что модель бэггинга строится на ансамбле разных обучающих выборок, но одинаковых моделей.\n",
        "\n",
        "### Случайный лес\n",
        "\n",
        "Случайный лес можно рассматривать как алгоритмом бэггинга над решающими деревьями.\n",
        "\n",
        "Но при этом каждое решающее дерево строится на случайно выбранном подмножестве признаков. Эта особенность называется \"feature bagging\" и основана на методе случайных подпространств.\n",
        "\n",
        "### Сверхслучайные деревья\n",
        "\n",
        "В сверхслучайных деревьях (Extremely Randomized Trees) больше случайности в том, как вычисляются разделения в узлах.\n",
        "\n",
        "\n",
        "\n"
      ],
      "metadata": {
        "id": "_FA2ururrOJa"
      }
    },
    {
      "cell_type": "markdown",
      "source": [
        "## Практика"
      ],
      "metadata": {
        "id": "uaLlgcE3pd_R"
      }
    },
    {
      "cell_type": "markdown",
      "source": [
        "Датасет: https://github.com/ongaunjie1/credit-score-prediction\n"
      ],
      "metadata": {
        "id": "HbbOb6mqpkJE"
      }
    },
    {
      "cell_type": "markdown",
      "source": [
        "### Загрузка и первичный анализ"
      ],
      "metadata": {
        "id": "keNHDCgYplcn"
      }
    },
    {
      "cell_type": "code",
      "source": [
        "import numpy as np\n",
        "import pandas as pd\n",
        "import seaborn as sns\n",
        "import matplotlib.pyplot as plt\n",
        "%matplotlib inline\n",
        "sns.set(style=\"ticks\")"
      ],
      "metadata": {
        "id": "aFh2tMCtplw_"
      },
      "execution_count": null,
      "outputs": []
    },
    {
      "cell_type": "code",
      "source": [
        "df0 = pd.read_csv(\"/dataset.csv\")\n",
        "df0.info()\n",
        "df0.head()"
      ],
      "metadata": {
        "colab": {
          "base_uri": "https://localhost:8080/",
          "height": 591
        },
        "id": "KAN8EDjYpng7",
        "outputId": "6a501628-8e4f-4781-ad53-7f31b8fd3886"
      },
      "execution_count": null,
      "outputs": [
        {
          "output_type": "stream",
          "name": "stdout",
          "text": [
            "<class 'pandas.core.frame.DataFrame'>\n",
            "RangeIndex: 14790 entries, 0 to 14789\n",
            "Data columns (total 12 columns):\n",
            " #   Column                     Non-Null Count  Dtype  \n",
            "---  ------                     --------------  -----  \n",
            " 0   age                        14790 non-null  int64  \n",
            " 1   annual_income              14790 non-null  float64\n",
            " 2   num_bank_acc               14790 non-null  int64  \n",
            " 3   num_credit_card            14790 non-null  int64  \n",
            " 4   interest_rate              14790 non-null  int64  \n",
            " 5   delay_from_due_date        14790 non-null  int64  \n",
            " 6   outstanding_debt           14790 non-null  float64\n",
            " 7   credit_history_age         14790 non-null  float64\n",
            " 8   installment_per_month      14790 non-null  float64\n",
            " 9   monthly_balance            14790 non-null  float64\n",
            " 10  payment_of_min_amount_Yes  14790 non-null  bool   \n",
            " 11  Predicted Credit Score     14790 non-null  int64  \n",
            "dtypes: bool(1), float64(5), int64(6)\n",
            "memory usage: 1.3 MB\n"
          ]
        },
        {
          "output_type": "execute_result",
          "data": {
            "text/plain": [
              "   age  annual_income  num_bank_acc  num_credit_card  interest_rate  \\\n",
              "0   23       19114.12             3                4              3   \n",
              "1   24       19114.12             3                4              3   \n",
              "2   28       34847.84             2                4              6   \n",
              "3   28       34847.84             2                4              6   \n",
              "4   55       30689.89             2                5              4   \n",
              "\n",
              "   delay_from_due_date  outstanding_debt  credit_history_age  \\\n",
              "0                    3            809.98               22.90   \n",
              "1                    3            809.98               22.10   \n",
              "2                    3            605.03               27.40   \n",
              "3                    3            605.03               27.50   \n",
              "4                    5            632.46               17.11   \n",
              "\n",
              "   installment_per_month  monthly_balance  payment_of_min_amount_Yes  \\\n",
              "0                  49.57           186.27                      False   \n",
              "1                  49.57           361.44                      False   \n",
              "2                  18.82           303.36                      False   \n",
              "3                  18.82           452.30                      False   \n",
              "4                  16.42           425.73                      False   \n",
              "\n",
              "   Predicted Credit Score  \n",
              "0                       2  \n",
              "1                       2  \n",
              "2                       2  \n",
              "3                       2  \n",
              "4                       1  "
            ],
            "text/html": [
              "\n",
              "  <div id=\"df-d09ff8fc-ebd5-47b2-835b-f6f2acce842c\" class=\"colab-df-container\">\n",
              "    <div>\n",
              "<style scoped>\n",
              "    .dataframe tbody tr th:only-of-type {\n",
              "        vertical-align: middle;\n",
              "    }\n",
              "\n",
              "    .dataframe tbody tr th {\n",
              "        vertical-align: top;\n",
              "    }\n",
              "\n",
              "    .dataframe thead th {\n",
              "        text-align: right;\n",
              "    }\n",
              "</style>\n",
              "<table border=\"1\" class=\"dataframe\">\n",
              "  <thead>\n",
              "    <tr style=\"text-align: right;\">\n",
              "      <th></th>\n",
              "      <th>age</th>\n",
              "      <th>annual_income</th>\n",
              "      <th>num_bank_acc</th>\n",
              "      <th>num_credit_card</th>\n",
              "      <th>interest_rate</th>\n",
              "      <th>delay_from_due_date</th>\n",
              "      <th>outstanding_debt</th>\n",
              "      <th>credit_history_age</th>\n",
              "      <th>installment_per_month</th>\n",
              "      <th>monthly_balance</th>\n",
              "      <th>payment_of_min_amount_Yes</th>\n",
              "      <th>Predicted Credit Score</th>\n",
              "    </tr>\n",
              "  </thead>\n",
              "  <tbody>\n",
              "    <tr>\n",
              "      <th>0</th>\n",
              "      <td>23</td>\n",
              "      <td>19114.12</td>\n",
              "      <td>3</td>\n",
              "      <td>4</td>\n",
              "      <td>3</td>\n",
              "      <td>3</td>\n",
              "      <td>809.98</td>\n",
              "      <td>22.90</td>\n",
              "      <td>49.57</td>\n",
              "      <td>186.27</td>\n",
              "      <td>False</td>\n",
              "      <td>2</td>\n",
              "    </tr>\n",
              "    <tr>\n",
              "      <th>1</th>\n",
              "      <td>24</td>\n",
              "      <td>19114.12</td>\n",
              "      <td>3</td>\n",
              "      <td>4</td>\n",
              "      <td>3</td>\n",
              "      <td>3</td>\n",
              "      <td>809.98</td>\n",
              "      <td>22.10</td>\n",
              "      <td>49.57</td>\n",
              "      <td>361.44</td>\n",
              "      <td>False</td>\n",
              "      <td>2</td>\n",
              "    </tr>\n",
              "    <tr>\n",
              "      <th>2</th>\n",
              "      <td>28</td>\n",
              "      <td>34847.84</td>\n",
              "      <td>2</td>\n",
              "      <td>4</td>\n",
              "      <td>6</td>\n",
              "      <td>3</td>\n",
              "      <td>605.03</td>\n",
              "      <td>27.40</td>\n",
              "      <td>18.82</td>\n",
              "      <td>303.36</td>\n",
              "      <td>False</td>\n",
              "      <td>2</td>\n",
              "    </tr>\n",
              "    <tr>\n",
              "      <th>3</th>\n",
              "      <td>28</td>\n",
              "      <td>34847.84</td>\n",
              "      <td>2</td>\n",
              "      <td>4</td>\n",
              "      <td>6</td>\n",
              "      <td>3</td>\n",
              "      <td>605.03</td>\n",
              "      <td>27.50</td>\n",
              "      <td>18.82</td>\n",
              "      <td>452.30</td>\n",
              "      <td>False</td>\n",
              "      <td>2</td>\n",
              "    </tr>\n",
              "    <tr>\n",
              "      <th>4</th>\n",
              "      <td>55</td>\n",
              "      <td>30689.89</td>\n",
              "      <td>2</td>\n",
              "      <td>5</td>\n",
              "      <td>4</td>\n",
              "      <td>5</td>\n",
              "      <td>632.46</td>\n",
              "      <td>17.11</td>\n",
              "      <td>16.42</td>\n",
              "      <td>425.73</td>\n",
              "      <td>False</td>\n",
              "      <td>1</td>\n",
              "    </tr>\n",
              "  </tbody>\n",
              "</table>\n",
              "</div>\n",
              "    <div class=\"colab-df-buttons\">\n",
              "\n",
              "  <div class=\"colab-df-container\">\n",
              "    <button class=\"colab-df-convert\" onclick=\"convertToInteractive('df-d09ff8fc-ebd5-47b2-835b-f6f2acce842c')\"\n",
              "            title=\"Convert this dataframe to an interactive table.\"\n",
              "            style=\"display:none;\">\n",
              "\n",
              "  <svg xmlns=\"http://www.w3.org/2000/svg\" height=\"24px\" viewBox=\"0 -960 960 960\">\n",
              "    <path d=\"M120-120v-720h720v720H120Zm60-500h600v-160H180v160Zm220 220h160v-160H400v160Zm0 220h160v-160H400v160ZM180-400h160v-160H180v160Zm440 0h160v-160H620v160ZM180-180h160v-160H180v160Zm440 0h160v-160H620v160Z\"/>\n",
              "  </svg>\n",
              "    </button>\n",
              "\n",
              "  <style>\n",
              "    .colab-df-container {\n",
              "      display:flex;\n",
              "      gap: 12px;\n",
              "    }\n",
              "\n",
              "    .colab-df-convert {\n",
              "      background-color: #E8F0FE;\n",
              "      border: none;\n",
              "      border-radius: 50%;\n",
              "      cursor: pointer;\n",
              "      display: none;\n",
              "      fill: #1967D2;\n",
              "      height: 32px;\n",
              "      padding: 0 0 0 0;\n",
              "      width: 32px;\n",
              "    }\n",
              "\n",
              "    .colab-df-convert:hover {\n",
              "      background-color: #E2EBFA;\n",
              "      box-shadow: 0px 1px 2px rgba(60, 64, 67, 0.3), 0px 1px 3px 1px rgba(60, 64, 67, 0.15);\n",
              "      fill: #174EA6;\n",
              "    }\n",
              "\n",
              "    .colab-df-buttons div {\n",
              "      margin-bottom: 4px;\n",
              "    }\n",
              "\n",
              "    [theme=dark] .colab-df-convert {\n",
              "      background-color: #3B4455;\n",
              "      fill: #D2E3FC;\n",
              "    }\n",
              "\n",
              "    [theme=dark] .colab-df-convert:hover {\n",
              "      background-color: #434B5C;\n",
              "      box-shadow: 0px 1px 3px 1px rgba(0, 0, 0, 0.15);\n",
              "      filter: drop-shadow(0px 1px 2px rgba(0, 0, 0, 0.3));\n",
              "      fill: #FFFFFF;\n",
              "    }\n",
              "  </style>\n",
              "\n",
              "    <script>\n",
              "      const buttonEl =\n",
              "        document.querySelector('#df-d09ff8fc-ebd5-47b2-835b-f6f2acce842c button.colab-df-convert');\n",
              "      buttonEl.style.display =\n",
              "        google.colab.kernel.accessAllowed ? 'block' : 'none';\n",
              "\n",
              "      async function convertToInteractive(key) {\n",
              "        const element = document.querySelector('#df-d09ff8fc-ebd5-47b2-835b-f6f2acce842c');\n",
              "        const dataTable =\n",
              "          await google.colab.kernel.invokeFunction('convertToInteractive',\n",
              "                                                    [key], {});\n",
              "        if (!dataTable) return;\n",
              "\n",
              "        const docLinkHtml = 'Like what you see? Visit the ' +\n",
              "          '<a target=\"_blank\" href=https://colab.research.google.com/notebooks/data_table.ipynb>data table notebook</a>'\n",
              "          + ' to learn more about interactive tables.';\n",
              "        element.innerHTML = '';\n",
              "        dataTable['output_type'] = 'display_data';\n",
              "        await google.colab.output.renderOutput(dataTable, element);\n",
              "        const docLink = document.createElement('div');\n",
              "        docLink.innerHTML = docLinkHtml;\n",
              "        element.appendChild(docLink);\n",
              "      }\n",
              "    </script>\n",
              "  </div>\n",
              "\n",
              "\n",
              "<div id=\"df-5ff3bcf4-f31a-4f77-a79f-16d5bd4bc93f\">\n",
              "  <button class=\"colab-df-quickchart\" onclick=\"quickchart('df-5ff3bcf4-f31a-4f77-a79f-16d5bd4bc93f')\"\n",
              "            title=\"Suggest charts\"\n",
              "            style=\"display:none;\">\n",
              "\n",
              "<svg xmlns=\"http://www.w3.org/2000/svg\" height=\"24px\"viewBox=\"0 0 24 24\"\n",
              "     width=\"24px\">\n",
              "    <g>\n",
              "        <path d=\"M19 3H5c-1.1 0-2 .9-2 2v14c0 1.1.9 2 2 2h14c1.1 0 2-.9 2-2V5c0-1.1-.9-2-2-2zM9 17H7v-7h2v7zm4 0h-2V7h2v10zm4 0h-2v-4h2v4z\"/>\n",
              "    </g>\n",
              "</svg>\n",
              "  </button>\n",
              "\n",
              "<style>\n",
              "  .colab-df-quickchart {\n",
              "      --bg-color: #E8F0FE;\n",
              "      --fill-color: #1967D2;\n",
              "      --hover-bg-color: #E2EBFA;\n",
              "      --hover-fill-color: #174EA6;\n",
              "      --disabled-fill-color: #AAA;\n",
              "      --disabled-bg-color: #DDD;\n",
              "  }\n",
              "\n",
              "  [theme=dark] .colab-df-quickchart {\n",
              "      --bg-color: #3B4455;\n",
              "      --fill-color: #D2E3FC;\n",
              "      --hover-bg-color: #434B5C;\n",
              "      --hover-fill-color: #FFFFFF;\n",
              "      --disabled-bg-color: #3B4455;\n",
              "      --disabled-fill-color: #666;\n",
              "  }\n",
              "\n",
              "  .colab-df-quickchart {\n",
              "    background-color: var(--bg-color);\n",
              "    border: none;\n",
              "    border-radius: 50%;\n",
              "    cursor: pointer;\n",
              "    display: none;\n",
              "    fill: var(--fill-color);\n",
              "    height: 32px;\n",
              "    padding: 0;\n",
              "    width: 32px;\n",
              "  }\n",
              "\n",
              "  .colab-df-quickchart:hover {\n",
              "    background-color: var(--hover-bg-color);\n",
              "    box-shadow: 0 1px 2px rgba(60, 64, 67, 0.3), 0 1px 3px 1px rgba(60, 64, 67, 0.15);\n",
              "    fill: var(--button-hover-fill-color);\n",
              "  }\n",
              "\n",
              "  .colab-df-quickchart-complete:disabled,\n",
              "  .colab-df-quickchart-complete:disabled:hover {\n",
              "    background-color: var(--disabled-bg-color);\n",
              "    fill: var(--disabled-fill-color);\n",
              "    box-shadow: none;\n",
              "  }\n",
              "\n",
              "  .colab-df-spinner {\n",
              "    border: 2px solid var(--fill-color);\n",
              "    border-color: transparent;\n",
              "    border-bottom-color: var(--fill-color);\n",
              "    animation:\n",
              "      spin 1s steps(1) infinite;\n",
              "  }\n",
              "\n",
              "  @keyframes spin {\n",
              "    0% {\n",
              "      border-color: transparent;\n",
              "      border-bottom-color: var(--fill-color);\n",
              "      border-left-color: var(--fill-color);\n",
              "    }\n",
              "    20% {\n",
              "      border-color: transparent;\n",
              "      border-left-color: var(--fill-color);\n",
              "      border-top-color: var(--fill-color);\n",
              "    }\n",
              "    30% {\n",
              "      border-color: transparent;\n",
              "      border-left-color: var(--fill-color);\n",
              "      border-top-color: var(--fill-color);\n",
              "      border-right-color: var(--fill-color);\n",
              "    }\n",
              "    40% {\n",
              "      border-color: transparent;\n",
              "      border-right-color: var(--fill-color);\n",
              "      border-top-color: var(--fill-color);\n",
              "    }\n",
              "    60% {\n",
              "      border-color: transparent;\n",
              "      border-right-color: var(--fill-color);\n",
              "    }\n",
              "    80% {\n",
              "      border-color: transparent;\n",
              "      border-right-color: var(--fill-color);\n",
              "      border-bottom-color: var(--fill-color);\n",
              "    }\n",
              "    90% {\n",
              "      border-color: transparent;\n",
              "      border-bottom-color: var(--fill-color);\n",
              "    }\n",
              "  }\n",
              "</style>\n",
              "\n",
              "  <script>\n",
              "    async function quickchart(key) {\n",
              "      const quickchartButtonEl =\n",
              "        document.querySelector('#' + key + ' button');\n",
              "      quickchartButtonEl.disabled = true;  // To prevent multiple clicks.\n",
              "      quickchartButtonEl.classList.add('colab-df-spinner');\n",
              "      try {\n",
              "        const charts = await google.colab.kernel.invokeFunction(\n",
              "            'suggestCharts', [key], {});\n",
              "      } catch (error) {\n",
              "        console.error('Error during call to suggestCharts:', error);\n",
              "      }\n",
              "      quickchartButtonEl.classList.remove('colab-df-spinner');\n",
              "      quickchartButtonEl.classList.add('colab-df-quickchart-complete');\n",
              "    }\n",
              "    (() => {\n",
              "      let quickchartButtonEl =\n",
              "        document.querySelector('#df-5ff3bcf4-f31a-4f77-a79f-16d5bd4bc93f button');\n",
              "      quickchartButtonEl.style.display =\n",
              "        google.colab.kernel.accessAllowed ? 'block' : 'none';\n",
              "    })();\n",
              "  </script>\n",
              "</div>\n",
              "\n",
              "    </div>\n",
              "  </div>\n"
            ],
            "application/vnd.google.colaboratory.intrinsic+json": {
              "type": "dataframe",
              "variable_name": "df0",
              "summary": "{\n  \"name\": \"df0\",\n  \"rows\": 14790,\n  \"fields\": [\n    {\n      \"column\": \"age\",\n      \"properties\": {\n        \"dtype\": \"number\",\n        \"std\": 10,\n        \"min\": 14,\n        \"max\": 56,\n        \"num_unique_values\": 43,\n        \"samples\": [\n          51,\n          15,\n          17\n        ],\n        \"semantic_type\": \"\",\n        \"description\": \"\"\n      }\n    },\n    {\n      \"column\": \"annual_income\",\n      \"properties\": {\n        \"dtype\": \"number\",\n        \"std\": 22381.232756364898,\n        \"min\": 7005.93,\n        \"max\": 140014.36,\n        \"num_unique_values\": 7581,\n        \"samples\": [\n          79741.88,\n          55916.52,\n          73339.92\n        ],\n        \"semantic_type\": \"\",\n        \"description\": \"\"\n      }\n    },\n    {\n      \"column\": \"num_bank_acc\",\n      \"properties\": {\n        \"dtype\": \"number\",\n        \"std\": 2,\n        \"min\": 1,\n        \"max\": 11,\n        \"num_unique_values\": 11,\n        \"samples\": [\n          7,\n          3,\n          10\n        ],\n        \"semantic_type\": \"\",\n        \"description\": \"\"\n      }\n    },\n    {\n      \"column\": \"num_credit_card\",\n      \"properties\": {\n        \"dtype\": \"number\",\n        \"std\": 2,\n        \"min\": 0,\n        \"max\": 11,\n        \"num_unique_values\": 12,\n        \"samples\": [\n          1,\n          11,\n          4\n        ],\n        \"semantic_type\": \"\",\n        \"description\": \"\"\n      }\n    },\n    {\n      \"column\": \"interest_rate\",\n      \"properties\": {\n        \"dtype\": \"number\",\n        \"std\": 8,\n        \"min\": 1,\n        \"max\": 34,\n        \"num_unique_values\": 34,\n        \"samples\": [\n          5,\n          7,\n          28\n        ],\n        \"semantic_type\": \"\",\n        \"description\": \"\"\n      }\n    },\n    {\n      \"column\": \"delay_from_due_date\",\n      \"properties\": {\n        \"dtype\": \"number\",\n        \"std\": 13,\n        \"min\": 1,\n        \"max\": 56,\n        \"num_unique_values\": 56,\n        \"samples\": [\n          3,\n          1,\n          29\n        ],\n        \"semantic_type\": \"\",\n        \"description\": \"\"\n      }\n    },\n    {\n      \"column\": \"outstanding_debt\",\n      \"properties\": {\n        \"dtype\": \"number\",\n        \"std\": 1050.5821073886673,\n        \"min\": 0.56,\n        \"max\": 4385.27,\n        \"num_unique_values\": 7487,\n        \"samples\": [\n          192.25,\n          2338.29,\n          562.21\n        ],\n        \"semantic_type\": \"\",\n        \"description\": \"\"\n      }\n    },\n    {\n      \"column\": \"credit_history_age\",\n      \"properties\": {\n        \"dtype\": \"number\",\n        \"std\": 8.13406408247176,\n        \"min\": 0.1,\n        \"max\": 34.0,\n        \"num_unique_values\": 366,\n        \"samples\": [\n          11.3,\n          31.2,\n          18.11\n        ],\n        \"semantic_type\": \"\",\n        \"description\": \"\"\n      }\n    },\n    {\n      \"column\": \"installment_per_month\",\n      \"properties\": {\n        \"dtype\": \"number\",\n        \"std\": 79.92523174631972,\n        \"min\": 4.46,\n        \"max\": 383.46,\n        \"num_unique_values\": 6316,\n        \"samples\": [\n          44.39,\n          11.02,\n          31.86\n        ],\n        \"semantic_type\": \"\",\n        \"description\": \"\"\n      }\n    },\n    {\n      \"column\": \"monthly_balance\",\n      \"properties\": {\n        \"dtype\": \"number\",\n        \"std\": 112.94065059882716,\n        \"min\": 33.56,\n        \"max\": 677.17,\n        \"num_unique_values\": 12003,\n        \"samples\": [\n          480.6,\n          464.43,\n          265.75\n        ],\n        \"semantic_type\": \"\",\n        \"description\": \"\"\n      }\n    },\n    {\n      \"column\": \"payment_of_min_amount_Yes\",\n      \"properties\": {\n        \"dtype\": \"boolean\",\n        \"num_unique_values\": 2,\n        \"samples\": [\n          true,\n          false\n        ],\n        \"semantic_type\": \"\",\n        \"description\": \"\"\n      }\n    },\n    {\n      \"column\": \"Predicted Credit Score\",\n      \"properties\": {\n        \"dtype\": \"number\",\n        \"std\": 0,\n        \"min\": 0,\n        \"max\": 2,\n        \"num_unique_values\": 3,\n        \"samples\": [\n          2,\n          1\n        ],\n        \"semantic_type\": \"\",\n        \"description\": \"\"\n      }\n    }\n  ]\n}"
            }
          },
          "metadata": {},
          "execution_count": 2
        }
      ]
    },
    {
      "cell_type": "markdown",
      "source": [
        "* **age**\tAge of the individual.\tint64\n",
        "* **annual_income**\tAnnual income of the individual.\tfloat64\n",
        "* **num_bank_acc**\tNumber of bank accounts owned.\tint64\n",
        "* **num_credit_card**\tNumber of credit cards owned.\tint64\n",
        "* **interest_rate**\tInterest rate of credit card.\tfloat64\n",
        "* **delay_from_due_date**\tDelayed days from payment's due date.\tint64\n",
        "* **outstanding_debt**\tAmount of outstanding debt.\tfloat64\n",
        "* **credit_history_age**\tCredit history age.\tfloat64\n",
        "* **payment_of_min_amount**\tIndicates if the minimum amount is paid.\tbool\n",
        "* **installment_per_month**\tMonthly installment amount.\tfloat64\n",
        "* **monthly_balance**\tMonthly balance\tfloat64\n",
        "* **credit_score**\tCredit score.\tint64"
      ],
      "metadata": {
        "id": "gE_gJGFvppYG"
      }
    },
    {
      "cell_type": "markdown",
      "source": [
        "### Разделение на обучающую и тестовую выборки"
      ],
      "metadata": {
        "id": "A3CA68Voprgw"
      }
    },
    {
      "cell_type": "code",
      "source": [
        "dfX = df0.drop(columns=[\"Predicted Credit Score\"])\n",
        "dfY = df0[\"Predicted Credit Score\"]"
      ],
      "metadata": {
        "id": "ru2gAH_mptD5"
      },
      "execution_count": null,
      "outputs": []
    },
    {
      "cell_type": "code",
      "source": [
        "print(\"\\n=======X=======\\n\")\n",
        "dfX.info()\n",
        "dfX.head()\n",
        "\n",
        "print(\"\\n=======Y=======\\n\")\n",
        "dfY.info()\n",
        "dfY.head()"
      ],
      "metadata": {
        "colab": {
          "base_uri": "https://localhost:8080/",
          "height": 796
        },
        "id": "fOIXeJ1Apt1I",
        "outputId": "eb6c14f0-ffa8-48ac-8966-bcfef290d8dc"
      },
      "execution_count": null,
      "outputs": [
        {
          "output_type": "stream",
          "name": "stdout",
          "text": [
            "\n",
            "=======X=======\n",
            "\n",
            "<class 'pandas.core.frame.DataFrame'>\n",
            "RangeIndex: 14790 entries, 0 to 14789\n",
            "Data columns (total 11 columns):\n",
            " #   Column                     Non-Null Count  Dtype  \n",
            "---  ------                     --------------  -----  \n",
            " 0   age                        14790 non-null  int64  \n",
            " 1   annual_income              14790 non-null  float64\n",
            " 2   num_bank_acc               14790 non-null  int64  \n",
            " 3   num_credit_card            14790 non-null  int64  \n",
            " 4   interest_rate              14790 non-null  int64  \n",
            " 5   delay_from_due_date        14790 non-null  int64  \n",
            " 6   outstanding_debt           14790 non-null  float64\n",
            " 7   credit_history_age         14790 non-null  float64\n",
            " 8   installment_per_month      14790 non-null  float64\n",
            " 9   monthly_balance            14790 non-null  float64\n",
            " 10  payment_of_min_amount_Yes  14790 non-null  bool   \n",
            "dtypes: bool(1), float64(5), int64(5)\n",
            "memory usage: 1.1 MB\n",
            "\n",
            "=======Y=======\n",
            "\n",
            "<class 'pandas.core.series.Series'>\n",
            "RangeIndex: 14790 entries, 0 to 14789\n",
            "Series name: Predicted Credit Score\n",
            "Non-Null Count  Dtype\n",
            "--------------  -----\n",
            "14790 non-null  int64\n",
            "dtypes: int64(1)\n",
            "memory usage: 115.7 KB\n"
          ]
        },
        {
          "output_type": "execute_result",
          "data": {
            "text/plain": [
              "0    2\n",
              "1    2\n",
              "2    2\n",
              "3    2\n",
              "4    1\n",
              "Name: Predicted Credit Score, dtype: int64"
            ],
            "text/html": [
              "<div>\n",
              "<style scoped>\n",
              "    .dataframe tbody tr th:only-of-type {\n",
              "        vertical-align: middle;\n",
              "    }\n",
              "\n",
              "    .dataframe tbody tr th {\n",
              "        vertical-align: top;\n",
              "    }\n",
              "\n",
              "    .dataframe thead th {\n",
              "        text-align: right;\n",
              "    }\n",
              "</style>\n",
              "<table border=\"1\" class=\"dataframe\">\n",
              "  <thead>\n",
              "    <tr style=\"text-align: right;\">\n",
              "      <th></th>\n",
              "      <th>Predicted Credit Score</th>\n",
              "    </tr>\n",
              "  </thead>\n",
              "  <tbody>\n",
              "    <tr>\n",
              "      <th>0</th>\n",
              "      <td>2</td>\n",
              "    </tr>\n",
              "    <tr>\n",
              "      <th>1</th>\n",
              "      <td>2</td>\n",
              "    </tr>\n",
              "    <tr>\n",
              "      <th>2</th>\n",
              "      <td>2</td>\n",
              "    </tr>\n",
              "    <tr>\n",
              "      <th>3</th>\n",
              "      <td>2</td>\n",
              "    </tr>\n",
              "    <tr>\n",
              "      <th>4</th>\n",
              "      <td>1</td>\n",
              "    </tr>\n",
              "  </tbody>\n",
              "</table>\n",
              "</div><br><label><b>dtype:</b> int64</label>"
            ]
          },
          "metadata": {},
          "execution_count": 4
        }
      ]
    },
    {
      "cell_type": "code",
      "source": [
        "from sklearn.model_selection import train_test_split"
      ],
      "metadata": {
        "id": "qcOMaAhgpu5S"
      },
      "execution_count": null,
      "outputs": []
    },
    {
      "cell_type": "code",
      "source": [
        "xTrain, xTest, yTrain, yTest = train_test_split(\n",
        "    dfX, dfY, test_size=0.2, random_state=1)"
      ],
      "metadata": {
        "id": "WoU3iMvzpvpz"
      },
      "execution_count": null,
      "outputs": []
    },
    {
      "cell_type": "code",
      "source": [
        "print(xTrain.shape)\n",
        "print(xTest.shape)\n",
        "print(yTrain.shape)\n",
        "print(yTest.shape)"
      ],
      "metadata": {
        "colab": {
          "base_uri": "https://localhost:8080/"
        },
        "id": "DOhNmuDIpxMq",
        "outputId": "15614f58-42ae-479f-96f7-c2323f2a0b07"
      },
      "execution_count": null,
      "outputs": [
        {
          "output_type": "stream",
          "name": "stdout",
          "text": [
            "(11832, 11)\n",
            "(2958, 11)\n",
            "(11832,)\n",
            "(2958,)\n"
          ]
        }
      ]
    },
    {
      "cell_type": "markdown",
      "source": [
        "### Бэггинг"
      ],
      "metadata": {
        "id": "VSEZHEGVqLJt"
      }
    },
    {
      "cell_type": "code",
      "source": [
        "from sklearn.ensemble import BaggingClassifier\n",
        "\n",
        "\n",
        "bagging_model = BaggingClassifier(random_state=1)\n",
        "bagging_model.fit(xTrain, yTrain)\n",
        "y_pred_bagging = bagging_model.predict(xTest)"
      ],
      "metadata": {
        "id": "zfdxK_los8Dv"
      },
      "execution_count": null,
      "outputs": []
    },
    {
      "cell_type": "markdown",
      "source": [
        "### Cлучайный лес"
      ],
      "metadata": {
        "id": "GwrTWJRl6Pdm"
      }
    },
    {
      "cell_type": "code",
      "source": [
        "from sklearn.ensemble import RandomForestClassifier\n",
        "\n",
        "\n",
        "rf_model = RandomForestClassifier(random_state=1)\n",
        "rf_model.fit(xTrain, yTrain)\n",
        "y_pred_rf = rf_model.predict(xTest)"
      ],
      "metadata": {
        "id": "ZLNp6Yq36LpA"
      },
      "execution_count": null,
      "outputs": []
    },
    {
      "cell_type": "markdown",
      "source": [
        "### AdaBoost"
      ],
      "metadata": {
        "id": "xrrYSLY1qNaV"
      }
    },
    {
      "cell_type": "code",
      "source": [
        "from sklearn.ensemble import AdaBoostClassifier\n",
        "\n",
        "\n",
        "ada_model = AdaBoostClassifier(random_state=1)\n",
        "ada_model.fit(xTrain, yTrain)\n",
        "y_pred_ada = ada_model.predict(xTest)"
      ],
      "metadata": {
        "id": "P6Kzv0JE6RqB"
      },
      "execution_count": null,
      "outputs": []
    },
    {
      "cell_type": "markdown",
      "source": [
        "### Градиентный бустинг"
      ],
      "metadata": {
        "id": "gytGp9zUqOBt"
      }
    },
    {
      "cell_type": "code",
      "source": [
        "from sklearn.ensemble import GradientBoostingClassifier\n",
        "\n",
        "\n",
        "gb_model = GradientBoostingClassifier(random_state=1)\n",
        "gb_model.fit(xTrain, yTrain)\n",
        "y_pred_gb = gb_model.predict(xTest)"
      ],
      "metadata": {
        "id": "M3oP77cl6TmI"
      },
      "execution_count": null,
      "outputs": []
    },
    {
      "cell_type": "markdown",
      "source": [
        "### Оценка качества"
      ],
      "metadata": {
        "id": "ikUCH0336UCA"
      }
    },
    {
      "cell_type": "code",
      "source": [
        "from sklearn.metrics import accuracy_score, precision_score, recall_score, f1_score\n",
        "from tabulate import tabulate\n",
        "\n",
        "\n",
        "# Метрики\n",
        "bagging_accuracy = round(accuracy_score(yTest, y_pred_bagging), 3)\n",
        "rf_accuracy = round(accuracy_score(yTest, y_pred_rf), 3)\n",
        "ada_accuracy = round(accuracy_score(yTest, y_pred_ada), 3)\n",
        "gb_accuracy = round(accuracy_score(yTest, y_pred_gb), 3)\n",
        "\n",
        "bagging_precision = round(precision_score(yTest, y_pred_bagging, average='weighted'), 3)\n",
        "rf_precision = round(precision_score(yTest, y_pred_rf, average='weighted'), 3)\n",
        "ada_precision = round(precision_score(yTest, y_pred_ada, average='weighted'), 3)\n",
        "gb_precision = round(precision_score(yTest, y_pred_gb, average='weighted'), 3)\n",
        "\n",
        "bagging_recall = round(recall_score(yTest, y_pred_bagging, average='weighted'), 3)\n",
        "rf_recall = round(recall_score(yTest, y_pred_rf, average='weighted'), 3)\n",
        "ada_recall = round(recall_score(yTest, y_pred_ada, average='weighted'), 3)\n",
        "gb_recall = round(recall_score(yTest, y_pred_gb, average='weighted'), 3)\n",
        "\n",
        "bagging_f1 = round(f1_score(yTest, y_pred_bagging, average='weighted'), 3)\n",
        "rf_f1 = round(f1_score(yTest, y_pred_rf, average='weighted'), 3)\n",
        "ada_f1 = round(f1_score(yTest, y_pred_ada, average='weighted'), 3)\n",
        "gb_f1 = round(f1_score(yTest, y_pred_gb, average='weighted'), 3)\n",
        "\n",
        "# Табличка\n",
        "data = [\n",
        "    ['accuracy', bagging_accuracy, rf_accuracy, ada_accuracy, gb_accuracy],\n",
        "    ['precision', bagging_precision, rf_precision, ada_precision, gb_precision],\n",
        "    ['recall', bagging_recall, rf_recall, ada_recall, gb_recall],\n",
        "    ['f1', bagging_f1, rf_f1, ada_f1, gb_f1]\n",
        "]\n",
        "\n",
        "headers = ['Метрика / Модель', 'Bagging', 'Random Forest', 'AdaBoost', 'Gradient Boosting']\n",
        "\n",
        "print(tabulate(data, headers=headers, tablefmt='grid'))"
      ],
      "metadata": {
        "colab": {
          "base_uri": "https://localhost:8080/"
        },
        "id": "mAOG43o761O9",
        "outputId": "61bfd594-1978-4feb-9576-cb203c882a54"
      },
      "execution_count": null,
      "outputs": [
        {
          "output_type": "stream",
          "name": "stdout",
          "text": [
            "+--------------------+-----------+-----------------+------------+---------------------+\n",
            "| Метрика / Модель   |   Bagging |   Random Forest |   AdaBoost |   Gradient Boosting |\n",
            "+====================+===========+=================+============+=====================+\n",
            "| accuracy           |     0.907 |           0.929 |      0.764 |               0.842 |\n",
            "+--------------------+-----------+-----------------+------------+---------------------+\n",
            "| precision          |     0.906 |           0.929 |      0.769 |               0.842 |\n",
            "+--------------------+-----------+-----------------+------------+---------------------+\n",
            "| recall             |     0.907 |           0.929 |      0.764 |               0.842 |\n",
            "+--------------------+-----------+-----------------+------------+---------------------+\n",
            "| f1                 |     0.907 |           0.929 |      0.755 |               0.842 |\n",
            "+--------------------+-----------+-----------------+------------+---------------------+\n"
          ]
        }
      ]
    }
  ]
}